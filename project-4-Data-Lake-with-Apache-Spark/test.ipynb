{
 "cells": [
  {
   "cell_type": "code",
   "execution_count": 1,
   "metadata": {},
   "outputs": [],
   "source": [
    "import configparser\n",
    "from datetime import datetime\n",
    "import os\n",
    "from pyspark.sql import SparkSession\n",
    "from pyspark.sql.functions import udf, col, monotonically_increasing_id, from_unixtime\n",
    "from pyspark.sql.functions import year, month, dayofmonth, hour, weekofyear, dayofweek, to_date\n",
    "from pyspark.sql.types import IntegerType, TimestampType, DateType"
   ]
  },
  {
   "cell_type": "code",
   "execution_count": 2,
   "metadata": {},
   "outputs": [],
   "source": [
    "spark = SparkSession \\\n",
    "    .builder \\\n",
    "    .appName(\"Data Frames practice\") \\\n",
    "    .getOrCreate()\n",
    "\n",
    "df_log  = spark.read.json(\"data/log-data/\")\n",
    "df_song = spark.read.json(\"data/song_data/*/*/*\")"
   ]
  },
  {
   "cell_type": "code",
   "execution_count": 9,
   "metadata": {},
   "outputs": [
    {
     "name": "stdout",
     "output_type": "stream",
     "text": [
      "root\n",
      " |-- artist_id: string (nullable = true)\n",
      " |-- artist_latitude: double (nullable = true)\n",
      " |-- artist_location: string (nullable = true)\n",
      " |-- artist_longitude: double (nullable = true)\n",
      " |-- artist_name: string (nullable = true)\n",
      " |-- duration: double (nullable = true)\n",
      " |-- num_songs: long (nullable = true)\n",
      " |-- song_id: string (nullable = true)\n",
      " |-- title: string (nullable = true)\n",
      " |-- year: long (nullable = true)\n",
      "\n"
     ]
    }
   ],
   "source": [
    "#df_log.printSchema()\n",
    "df_song.printSchema()"
   ]
  },
  {
   "cell_type": "code",
   "execution_count": 5,
   "metadata": {},
   "outputs": [
    {
     "name": "stdout",
     "output_type": "stream",
     "text": [
      "root\n",
      " |-- song_id: string (nullable = true)\n",
      " |-- title: string (nullable = true)\n",
      " |-- artist_id: string (nullable = true)\n",
      " |-- year: long (nullable = true)\n",
      " |-- duration: double (nullable = true)\n",
      "\n"
     ]
    },
    {
     "data": {
      "text/plain": [
       "[Row(song_id='SOGOSOV12AF72A285E', title='¿Dónde va Chichi?', artist_id='ARGUVEV1187B98BA17', year=1997, duration=313.12934),\n",
       " Row(song_id='SOTTDKS12AB018D69B', title='It Wont Be Christmas', artist_id='ARMBR4Y1187B9990EB', year=0, duration=241.47546),\n",
       " Row(song_id='SOBBUGU12A8C13E95D', title='Setting Fire to Sleeping Giants', artist_id='ARMAC4T1187FB3FA4C', year=2004, duration=207.77751),\n",
       " Row(song_id='SOIAZJW12AB01853F1', title='Pink World', artist_id='AR8ZCNI1187B9A069B', year=1984, duration=269.81832),\n",
       " Row(song_id='SONYPOM12A8C13B2D7', title='I Think My Wife Is Running Around On Me (Taco Hell)', artist_id='ARDNS031187B9924F0', year=2005, duration=186.48771)]"
      ]
     },
     "execution_count": 5,
     "metadata": {},
     "output_type": "execute_result"
    }
   ],
   "source": [
    "song = df_song.select('song_id', 'title', 'artist_id', 'year', 'duration') \\\n",
    "    .dropDuplicates()\n",
    "song.printSchema()\n",
    "\n",
    "song.orderBy().take(5)"
   ]
  },
  {
   "cell_type": "code",
   "execution_count": 4,
   "metadata": {},
   "outputs": [
    {
     "name": "stdout",
     "output_type": "stream",
     "text": [
      "root\n",
      " |-- artist_id: string (nullable = true)\n",
      " |-- name: string (nullable = true)\n",
      " |-- location: string (nullable = true)\n",
      " |-- latitude: double (nullable = true)\n",
      " |-- longitude: double (nullable = true)\n",
      "\n"
     ]
    }
   ],
   "source": [
    "artist = df_song.select('artist_id', col('artist_name').alias('name'), col('artist_location')\\\n",
    "                        .alias('location'),col('artist_latitude').alias('latitude'), \\\n",
    "                        col('artist_longitude').alias('longitude')).dropDuplicates()\n",
    "artist.printSchema()"
   ]
  },
  {
   "cell_type": "code",
   "execution_count": 5,
   "metadata": {},
   "outputs": [
    {
     "name": "stdout",
     "output_type": "stream",
     "text": [
      "root\n",
      " |-- user_id: integer (nullable = true)\n",
      " |-- first_name: string (nullable = true)\n",
      " |-- last_name: string (nullable = true)\n",
      " |-- gender: string (nullable = true)\n",
      " |-- level: string (nullable = true)\n",
      "\n"
     ]
    }
   ],
   "source": [
    "user_temp = df_log.filter(df_log.userId != ''). \\\n",
    "    groupBy('userId'). \\\n",
    "    max('ts'). \\\n",
    "    select('userId', col('max(ts)').alias('max_ts'))\n",
    "\n",
    "users = df_log.join(user_temp, [df_log.userId == user_temp.userId, df_log.ts == user_temp.max_ts]). \\\n",
    "    select(df_log.userId.alias('user_id'), df_log.firstName.alias('first_name'), \\\n",
    "           df_log.lastName.alias('last_name'), df_log.gender, df_log.level)\n",
    "\n",
    "users = users.withColumn('user_id', users['user_id'].cast(IntegerType()))\n",
    "users.printSchema()"
   ]
  },
  {
   "cell_type": "code",
   "execution_count": 6,
   "metadata": {},
   "outputs": [
    {
     "name": "stdout",
     "output_type": "stream",
     "text": [
      "root\n",
      " |-- start_time: timestamp (nullable = true)\n",
      " |-- hour: integer (nullable = true)\n",
      " |-- day: integer (nullable = true)\n",
      " |-- week: integer (nullable = true)\n",
      " |-- month: integer (nullable = true)\n",
      " |-- year: integer (nullable = true)\n",
      " |-- weekday: integer (nullable = true)\n",
      "\n"
     ]
    }
   ],
   "source": [
    "df_log = df_log.filter(df_log.page == 'NextSong')\n",
    "df_log = df_log.withColumn('timestamp', from_unixtime(df_log.ts/1000)\\\n",
    "                                 .cast(TimestampType()))\n",
    "df_log = df_log.withColumn('datetime', from_unixtime(df_log.ts/1000).cast(DateType()))\n",
    "\n",
    "time = df_log.select(df_log.timestamp.alias('start_time'), hour('timestamp').alias('hour'), \\\n",
    "                       dayofmonth('timestamp').alias('day'), weekofyear('timestamp').alias('week'), \\\n",
    "                       month('timestamp').alias('month'), year('timestamp').alias('year'), \\\n",
    "                       dayofweek('timestamp').alias('weekday'))\n",
    "\n",
    "#time = time.withColumn('start_time_datetime', to_date(df_log.start_time, 'yyyy-mm-dd HH:mm:ss')\\\n",
    "#                                 .cast(DateType()))\n",
    "\n",
    "#time.printSchema()\n",
    "time.printSchema()\n",
    "#time.write.partitionBy('year', 'month').parquet('data/analytics/time/')"
   ]
  },
  {
   "cell_type": "code",
   "execution_count": 8,
   "metadata": {},
   "outputs": [
    {
     "name": "stdout",
     "output_type": "stream",
     "text": [
      "root\n",
      " |-- songplay_id: long (nullable = false)\n",
      " |-- timestamp: timestamp (nullable = true)\n",
      " |-- user_id: string (nullable = true)\n",
      " |-- level: string (nullable = true)\n",
      " |-- song_id: string (nullable = true)\n",
      " |-- artist_id: string (nullable = true)\n",
      " |-- session_id: long (nullable = true)\n",
      " |-- location: string (nullable = true)\n",
      " |-- user_agent: string (nullable = true)\n",
      " |-- year: integer (nullable = true)\n",
      " |-- month: integer (nullable = true)\n",
      "\n"
     ]
    }
   ],
   "source": [
    "songplays = df_log.filter(df_log.page == 'NextSong'). \\\n",
    "    join(df_song, (df_song.title == df_log.song) & \\\n",
    "                  (df_song.artist_name == df_log.artist) & \\\n",
    "                  (df_song.duration == df_log.length), 'inner'). \\\n",
    "    select(monotonically_increasing_id().alias('songplay_id'), df_log.timestamp, \\\n",
    "           df_log.userId.alias('user_id'), df_log.level, df_song.song_id, df_song.artist_id, \\\n",
    "           df_log.sessionId.alias('session_id'), df_log.location, df_log.userAgent.alias('user_agent'), \\\n",
    "           year(df_log.timestamp).alias('year'), month(df_log.timestamp).alias('month'))\n",
    "\n",
    "songplays.printSchema()"
   ]
  },
  {
   "cell_type": "code",
   "execution_count": null,
   "metadata": {},
   "outputs": [],
   "source": [
    "song = spark.read.parquet('')\n",
    "songplays1 = df_log.filter(df_log.page == 'NextSong'). \\\n",
    "    join(song, [song.title == df_log.song,df_song.artist_name == df_log.artist, \\\n",
    "                   df_song.duration == df_log.length]). \\\n",
    "    select(monotonically_increasing_id().alias('songplay_id'), df_log.ts.alias('start_time'), \\\n",
    "           df_log.userId.alias('user_id'), df_log.level, df_song.song_id, df_song.artist_id, \\\n",
    "           df_log.sessionId.alias('session_id'), df_log.location, df_log.userAgent.alias('user_agent'), \\\n",
    "           df_log.year, df_log.month\n",
    "          )\n",
    "\n",
    "songplay1.printSchema()\n",
    "songplay1.show()"
   ]
  }
 ],
 "metadata": {
  "kernelspec": {
   "display_name": "Python 3",
   "language": "python",
   "name": "python3"
  },
  "language_info": {
   "codemirror_mode": {
    "name": "ipython",
    "version": 3
   },
   "file_extension": ".py",
   "mimetype": "text/x-python",
   "name": "python",
   "nbconvert_exporter": "python",
   "pygments_lexer": "ipython3",
   "version": "3.6.3"
  }
 },
 "nbformat": 4,
 "nbformat_minor": 2
}
